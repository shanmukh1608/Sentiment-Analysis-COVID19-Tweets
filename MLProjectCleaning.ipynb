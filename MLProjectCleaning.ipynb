{
 "cells": [
  {
   "cell_type": "code",
   "execution_count": 1,
   "id": "81098520",
   "metadata": {},
   "outputs": [],
   "source": [
    "import numpy as np\n",
    "import pandas as pd\n",
    "import gzip\n",
    "import json\n",
    "from pathlib import Path"
   ]
  },
  {
   "cell_type": "code",
   "execution_count": 2,
   "id": "bdb6effb",
   "metadata": {},
   "outputs": [
    {
     "name": "stderr",
     "output_type": "stream",
     "text": [
      "[nltk_data] Downloading package stopwords to\n",
      "[nltk_data]     /Users/shanmukh/nltk_data...\n",
      "[nltk_data]   Package stopwords is already up-to-date!\n"
     ]
    },
    {
     "data": {
      "text/plain": [
       "True"
      ]
     },
     "execution_count": 2,
     "metadata": {},
     "output_type": "execute_result"
    }
   ],
   "source": [
    "import nltk\n",
    "nltk.download('stopwords')"
   ]
  },
  {
   "cell_type": "code",
   "execution_count": 3,
   "id": "5f1846b5",
   "metadata": {},
   "outputs": [],
   "source": [
    "import re\n",
    "import string\n",
    "from bs4 import BeautifulSoup\n",
    "from nltk.stem import PorterStemmer\n",
    "from nltk.stem.wordnet import WordNetLemmatizer\n",
    "import spacy\n",
    "from unidecode import unidecode\n",
    "from textblob import TextBlob"
   ]
  },
  {
   "cell_type": "code",
   "execution_count": 4,
   "id": "760a494c",
   "metadata": {},
   "outputs": [],
   "source": [
    "nlp = spacy.load('en_core_web_lg')\n",
    "\n",
    "def clean_string(text, stem=\"None\"):\n",
    "\n",
    "    final_string = \"\"\n",
    "\n",
    "    # Make lower\n",
    "    text = text.lower()\n",
    "\n",
    "    # Remove line breaks\n",
    "    text = re.sub(r'\\n', '', text)\n",
    "\n",
    "    # Remove punctuation\n",
    "    translator = str.maketrans('', '', string.punctuation)\n",
    "    text = text.translate(translator)\n",
    "\n",
    "    # Remove stop words\n",
    "    text = text.split()\n",
    "    useless_words = nltk.corpus.stopwords.words(\"english\")\n",
    "    useless_words = useless_words + ['rt']\n",
    "\n",
    "    text_filtered = [word for word in text if not word in useless_words]\n",
    "\n",
    "    # Remove numbers\n",
    "    text_filtered = [w for w in text_filtered if not bool(re.search(r'\\w*\\d\\w*', w))]\n",
    "\n",
    "    # Stem or Lemmatize\n",
    "    if stem == 'Stem':\n",
    "        stemmer = PorterStemmer() \n",
    "        text_stemmed = [stemmer.stem(y) for y in text_filtered]\n",
    "    elif stem == 'Lem':\n",
    "        lem = WordNetLemmatizer()\n",
    "        text_stemmed = [lem.lemmatize(y) for y in text_filtered]\n",
    "    elif stem == 'Spacy':\n",
    "        text_filtered = nlp(' '.join(text_filtered))\n",
    "        text_stemmed = [y.lemma_ for y in text_filtered]\n",
    "    else:\n",
    "        text_stemmed = text_filtered\n",
    "\n",
    "    final_string = ' '.join(text_stemmed)\n",
    "\n",
    "    return final_string"
   ]
  },
  {
   "cell_type": "code",
   "execution_count": 5,
   "id": "e3d92eb4",
   "metadata": {},
   "outputs": [],
   "source": [
    "data_dirs = ['2020-11', '2020-12', '2021-01', '2021-02', '2021-12', '2022-01']\n",
    "pd.set_option('display.max_colwidth', None)"
   ]
  },
  {
   "cell_type": "code",
   "execution_count": 7,
   "id": "05f97cf2",
   "metadata": {
    "scrolled": true
   },
   "outputs": [],
   "source": [
    "# Cleaning with Spacy and adding score using TextBlob\n",
    "for data_dir in data_dirs:\n",
    "    for path in Path('raw_data/' + data_dir).iterdir():\n",
    "        if path.name.endswith('.jsonl.gz'):\n",
    "            with gzip.open(path) as f:\n",
    "                daytweets = pd.read_json(f, lines=True)\n",
    "                # keep English tweets\n",
    "                eng =  daytweets.loc[daytweets['lang'] == 'en']\n",
    "                \n",
    "                # drop every column except created_at and full_text\n",
    "                engtext = daytweets[['created_at', 'full_text']].copy()\n",
    "                \n",
    "                # remove accounts mentioned, remove link, convert to ASCII\n",
    "                engtext['full_text'] = engtext['full_text'].\\\n",
    "                map(lambda x: unidecode(' '.join(word for word in x.split(' ') \\\n",
    "                if not (word.startswith('@') or word.startswith('http')))))\n",
    "                \n",
    "                # lowercase, remove line breaks, remove punctuation, remove stopwords, \n",
    "                engtext['full_text'] = engtext['full_text'].apply(lambda x: clean_string(x, stem='Spacy'))\n",
    "                \n",
    "                engtext['sentiment_score'] = engtext.apply(lambda row: TextBlob(str(row['full_text'])).sentiment.polarity, axis = 1)\n",
    "                \n",
    "                # write to CSV\n",
    "                Path(\"spacy_textblob/\" + data_dir).mkdir(parents=True, exist_ok=True)\n",
    "                csvpath = 'spacy_textblob' + '/' + data_dir + '/' + str(path).split('/')[2].split('.')[0] + '.csv'\n",
    "                engtext.to_csv(csvpath)"
   ]
  },
  {
   "cell_type": "code",
   "execution_count": 15,
   "id": "3cbcd9cb-e965-40c8-a5c5-dd82cc7dc78e",
   "metadata": {},
   "outputs": [],
   "source": [
    "from vaderSentiment.vaderSentiment import SentimentIntensityAnalyzer"
   ]
  },
  {
   "cell_type": "code",
   "execution_count": 21,
   "id": "d113777e-6288-440e-b870-c92ebb0a2878",
   "metadata": {},
   "outputs": [],
   "source": [
    "vaderanalyzer = SentimentIntensityAnalyzer()\n",
    "# Not cleaning and adding score using Vader\n",
    "for data_dir in data_dirs:\n",
    "    for path in Path('raw_data/' + data_dir).iterdir():\n",
    "        if path.name.endswith('.jsonl.gz'):\n",
    "            with gzip.open(path) as f:\n",
    "                daytweets = pd.read_json(f, lines=True)\n",
    "                # keep English tweets\n",
    "                eng =  daytweets.loc[daytweets['lang'] == 'en']\n",
    "                \n",
    "                # drop every column except created_at and full_text\n",
    "                engtext = daytweets[['created_at', 'full_text']].copy()\n",
    "                \n",
    "                # remove accounts mentioned, remove link, convert to ASCII\n",
    "                engtext['full_text'] = engtext['full_text'].\\\n",
    "                map(lambda x: unidecode(' '.join(word for word in x.split(' ') \\\n",
    "                if not (word.startswith('@') or word.startswith('http')))))\n",
    "                \n",
    "                # # lowercase, remove line breaks, remove punctuation, remove stopwords, \n",
    "                # engtext['full_text'] = engtext['full_text'].apply(lambda x: clean_string(x, stem='Spacy'))\n",
    "                \n",
    "                engtext['sentiment_score'] = engtext.apply(lambda row: vaderanalyzer.polarity_scores(row['full_text']), axis = 1)\n",
    "                \n",
    "                # write to CSV\n",
    "                Path(\"raw_vader/\" + data_dir).mkdir(parents=True, exist_ok=True)\n",
    "                csvpath = 'raw_vader' + '/' + data_dir + '/' + str(path).split('/')[2].split('.')[0] + '.csv'\n",
    "                engtext.to_csv(csvpath)"
   ]
  }
 ],
 "metadata": {
  "kernelspec": {
   "display_name": "Python 3 (ipykernel)",
   "language": "python",
   "name": "python3"
  },
  "language_info": {
   "codemirror_mode": {
    "name": "ipython",
    "version": 3
   },
   "file_extension": ".py",
   "mimetype": "text/x-python",
   "name": "python",
   "nbconvert_exporter": "python",
   "pygments_lexer": "ipython3",
   "version": "3.10.8"
  }
 },
 "nbformat": 4,
 "nbformat_minor": 5
}

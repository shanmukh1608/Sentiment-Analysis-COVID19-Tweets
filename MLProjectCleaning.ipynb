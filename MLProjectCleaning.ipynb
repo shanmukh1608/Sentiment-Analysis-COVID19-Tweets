{
 "cells": [
  {
   "cell_type": "code",
   "execution_count": 4,
   "id": "81098520",
   "metadata": {},
   "outputs": [],
   "source": [
    "import numpy as np\n",
    "import pandas as pd\n",
    "import gzip\n",
    "import json\n",
    "from pathlib import Path"
   ]
  },
  {
   "cell_type": "code",
   "execution_count": 27,
   "id": "5f1846b5",
   "metadata": {},
   "outputs": [
    {
     "name": "stderr",
     "output_type": "stream",
     "text": [
      "[nltk_data] Downloading package stopwords to\n",
      "[nltk_data]     /Users/shanmukh/nltk_data...\n",
      "[nltk_data]   Package stopwords is already up-to-date!\n"
     ]
    }
   ],
   "source": [
    "import nltk\n",
    "nltk.download('stopwords')\n",
    "import re\n",
    "import string\n",
    "from bs4 import BeautifulSoup\n",
    "from nltk.stem import PorterStemmer\n",
    "from nltk.stem.wordnet import WordNetLemmatizer\n",
    "import spacy\n",
    "from unidecode import unidecode\n",
    "from textblob import TextBlob"
   ]
  },
  {
   "cell_type": "code",
   "execution_count": 4,
   "id": "760a494c",
   "metadata": {},
   "outputs": [],
   "source": [
    "nlp = spacy.load('en_core_web_lg')\n",
    "\n",
    "def clean_string(text, stem=\"None\"):\n",
    "\n",
    "    final_string = \"\"\n",
    "\n",
    "    # Make lower\n",
    "    text = text.lower()\n",
    "\n",
    "    # Remove line breaks\n",
    "    text = re.sub(r'\\n', '', text)\n",
    "\n",
    "    # Remove punctuation\n",
    "    translator = str.maketrans('', '', string.punctuation)\n",
    "    text = text.translate(translator)\n",
    "\n",
    "    # Remove stop words\n",
    "    text = text.split()\n",
    "    useless_words = nltk.corpus.stopwords.words(\"english\")\n",
    "    useless_words = useless_words + ['rt']\n",
    "\n",
    "    text_filtered = [word for word in text if not word in useless_words]\n",
    "\n",
    "    # Remove numbers\n",
    "    text_filtered = [w for w in text_filtered if not bool(re.search(r'\\w*\\d\\w*', w))]\n",
    "\n",
    "    # Stem or Lemmatize\n",
    "    if stem == 'Stem':\n",
    "        stemmer = PorterStemmer() \n",
    "        text_stemmed = [stemmer.stem(y) for y in text_filtered]\n",
    "    elif stem == 'Lem':\n",
    "        lem = WordNetLemmatizer()\n",
    "        text_stemmed = [lem.lemmatize(y) for y in text_filtered]\n",
    "    elif stem == 'Spacy':\n",
    "        text_filtered = nlp(' '.join(text_filtered))\n",
    "        text_stemmed = [y.lemma_ for y in text_filtered]\n",
    "    else:\n",
    "        text_stemmed = text_filtered\n",
    "\n",
    "    final_string = ' '.join(text_stemmed)\n",
    "\n",
    "    return final_string"
   ]
  },
  {
   "cell_type": "code",
   "execution_count": 28,
   "id": "e3d92eb4",
   "metadata": {},
   "outputs": [],
   "source": [
    "data_dirs = ['2020-11', '2020-12', '2021-01', '2021-02', '2021-12', '2022-01']\n",
    "pd.set_option('display.max_colwidth', None)"
   ]
  },
  {
   "cell_type": "markdown",
   "id": "d31b47a2-568c-4721-864b-96e79065f252",
   "metadata": {},
   "source": [
    "# Cleaning with Spacy, adding score using TextBlob"
   ]
  },
  {
   "cell_type": "code",
   "execution_count": null,
   "id": "05f97cf2",
   "metadata": {
    "scrolled": true
   },
   "outputs": [],
   "source": [
    "for data_dir in data_dirs:\n",
    "    for path in Path('raw_data/' + data_dir).iterdir():\n",
    "        if path.name.endswith('.jsonl.gz'):\n",
    "            with gzip.open(path) as f:\n",
    "                daytweets = pd.read_json(f, lines=True)\n",
    "                # keep English tweets\n",
    "                eng =  daytweets.loc[daytweets['lang'] == 'en']\n",
    "                \n",
    "                # drop every column except created_at and full_text\n",
    "                engtext = daytweets[['created_at', 'full_text']].copy()\n",
    "                \n",
    "                # remove accounts mentioned, remove link, convert to ASCII\n",
    "                engtext['full_text'] = engtext['full_text'].\\\n",
    "                map(lambda x: unidecode(' '.join(word for word in x.split(' ') \\\n",
    "                if not (word.startswith('@') or word.startswith('http')))))\n",
    "                \n",
    "                # lowercase, remove line breaks, remove punctuation, remove stopwords, \n",
    "                engtext['full_text'] = engtext['full_text'].apply(lambda x: clean_string(x, stem='Spacy'))\n",
    "                \n",
    "                engtext['sentiment_score'] = engtext.apply(lambda row: TextBlob(str(row['full_text'])).sentiment.polarity, axis = 1)\n",
    "                \n",
    "                # write to CSV\n",
    "                Path(\"spacy_textblob/\" + data_dir).mkdir(parents=True, exist_ok=True)\n",
    "                csvpath = 'spacy_textblob' + '/' + data_dir + '/' + str(path).split('/')[2].split('.')[0] + '.csv'\n",
    "                engtext.to_csv(csvpath)"
   ]
  },
  {
   "cell_type": "markdown",
   "id": "b9bb72e3-ffe3-4124-85c5-706a3d50dd22",
   "metadata": {},
   "source": [
    "# Not cleaning, adding score using Vader"
   ]
  },
  {
   "cell_type": "code",
   "execution_count": 97,
   "id": "3cbcd9cb-e965-40c8-a5c5-dd82cc7dc78e",
   "metadata": {},
   "outputs": [],
   "source": [
    "from vaderSentiment.vaderSentiment import SentimentIntensityAnalyzer"
   ]
  },
  {
   "cell_type": "code",
   "execution_count": 104,
   "id": "d113777e-6288-440e-b870-c92ebb0a2878",
   "metadata": {},
   "outputs": [
    {
     "name": "stdout",
     "output_type": "stream",
     "text": [
      "raw_data/2020-12/coronavirus-tweet-id-2020-12-31-11.jsonl.gz\n",
      "raw_data/2021-01/coronavirus-tweet-id-2021-01-23-11.jsonl.gz\n"
     ]
    }
   ],
   "source": [
    "vaderanalyzer = SentimentIntensityAnalyzer()\n",
    "\n",
    "for data_dir in data_dirs:\n",
    "    for path in Path('raw_data/' + data_dir).iterdir():\n",
    "        if path.name.endswith('.jsonl.gz'):\n",
    "            with gzip.open(path) as f:\n",
    "                if not (str(path) == 'raw_data/2020-12/coronavirus-tweet-id-2020-12-31-11.jsonl.gz' or str(path) == 'raw_data/2021-01/coronavirus-tweet-id-2021-01-23-11.jsonl.gz'):\n",
    "                    continue\n",
    "                print(path)\n",
    "                daytweets = pd.read_json(f, lines=True)\n",
    "                # keep English tweets\n",
    "                eng =  daytweets.loc[daytweets['lang'] == 'en']\n",
    "                \n",
    "                # drop every column except created_at and full_text\n",
    "                engtext = daytweets[['created_at', 'full_text']].copy()\n",
    "                \n",
    "                # remove accounts mentioned, remove link, convert to ASCII\n",
    "                engtext['full_text'] = engtext['full_text'].\\\n",
    "                map(lambda x: unidecode(' '.join(word for word in x.split(' ') \\\n",
    "                if not (word.startswith('@') or word.startswith('http')))))\n",
    "                \n",
    "                # # lowercase, remove line breaks, remove punctuation, remove stopwords, \n",
    "                # engtext['full_text'] = engtext['full_text'].apply(lambda x: clean_string(x, stem='Spacy'))\n",
    "                \n",
    "                engtext['sentiment_score'] = engtext.apply(lambda row: vaderanalyzer.polarity_scores(row['full_text']), axis = 1)\n",
    "                \n",
    "                # write to CSV\n",
    "                Path(\"raw_vader/\" + data_dir).mkdir(parents=True, exist_ok=True)\n",
    "                jsonpath = 'raw_vader' + '/' + data_dir + '/' + str(path).split('/')[2].split('.')[0] + '.jsonl'\n",
    "                engtext.to_json(jsonpath, orient='records', lines=True)"
   ]
  },
  {
   "cell_type": "markdown",
   "id": "0b334407-70c1-4621-9138-5f9512341332",
   "metadata": {},
   "source": [
    "# Not cleaning, adding score using roBERTa"
   ]
  },
  {
   "cell_type": "code",
   "execution_count": 23,
   "id": "c42a6f05-9e71-4214-b696-ae828f1caa42",
   "metadata": {},
   "outputs": [
    {
     "name": "stderr",
     "output_type": "stream",
     "text": [
      "Some weights of the model checkpoint at cardiffnlp/twitter-roberta-base-sentiment-latest were not used when initializing RobertaForSequenceClassification: ['roberta.pooler.dense.bias', 'roberta.pooler.dense.weight']\n",
      "- This IS expected if you are initializing RobertaForSequenceClassification from the checkpoint of a model trained on another task or with another architecture (e.g. initializing a BertForSequenceClassification model from a BertForPreTraining model).\n",
      "- This IS NOT expected if you are initializing RobertaForSequenceClassification from the checkpoint of a model that you expect to be exactly identical (initializing a BertForSequenceClassification model from a BertForSequenceClassification model).\n"
     ]
    }
   ],
   "source": [
    "from transformers import AutoModelForSequenceClassification\n",
    "from transformers import TFAutoModelForSequenceClassification\n",
    "from transformers import AutoTokenizer, AutoConfig\n",
    "from scipy.special import softmax\n",
    "\n",
    "MODEL = f\"cardiffnlp/twitter-roberta-base-sentiment-latest\"\n",
    "tokenizer = AutoTokenizer.from_pretrained(MODEL)\n",
    "config = AutoConfig.from_pretrained(MODEL)\n",
    "model = AutoModelForSequenceClassification.from_pretrained(MODEL)"
   ]
  },
  {
   "cell_type": "code",
   "execution_count": 95,
   "id": "0e97c438-629d-4687-8faa-0370e19ac93e",
   "metadata": {},
   "outputs": [
    {
     "name": "stderr",
     "output_type": "stream",
     "text": [
      "Some weights of the model checkpoint at cardiffnlp/twitter-roberta-base-sentiment-latest were not used when initializing RobertaForSequenceClassification: ['roberta.pooler.dense.bias', 'roberta.pooler.dense.weight']\n",
      "- This IS expected if you are initializing RobertaForSequenceClassification from the checkpoint of a model trained on another task or with another architecture (e.g. initializing a BertForSequenceClassification model from a BertForPreTraining model).\n",
      "- This IS NOT expected if you are initializing RobertaForSequenceClassification from the checkpoint of a model that you expect to be exactly identical (initializing a BertForSequenceClassification model from a BertForSequenceClassification model).\n"
     ]
    },
    {
     "name": "stdout",
     "output_type": "stream",
     "text": [
      "raw_data/2020-12/coronavirus-tweet-id-2020-12-31-11.jsonl.gz\n",
      "raw_data/2021-01/coronavirus-tweet-id-2021-01-23-11.jsonl.gz\n"
     ]
    }
   ],
   "source": [
    "from transformers import pipeline\n",
    "sentiment_task = pipeline(\"sentiment-analysis\", model=MODEL, tokenizer=MODEL)\n",
    "\n",
    "for data_dir in data_dirs:\n",
    "    for path in Path('raw_data/' + data_dir).iterdir():\n",
    "        if path.name.endswith('.jsonl.gz'):\n",
    "            with gzip.open(path) as f:\n",
    "                # if not (str(path) == 'raw_data/2020-12/coronavirus-tweet-id-2020-12-31-11.jsonl.gz' or str(path) == 'raw_data/2021-01/coronavirus-tweet-id-2021-01-23-11.jsonl.gz'):\n",
    "                #     continue\n",
    "                # print(path)\n",
    "                daytweets = pd.read_json(f, lines=True)\n",
    "                # keep English tweets\n",
    "                eng =  daytweets.loc[daytweets['lang'] == 'en']\n",
    "                \n",
    "                # drop every column except created_at and full_text\n",
    "                engtext = daytweets[['created_at', 'full_text']].copy()\n",
    "                \n",
    "                # remove accounts mentioned, remove link, convert to ASCII\n",
    "                engtext['full_text'] = engtext['full_text'].\\\n",
    "                map(lambda x: unidecode(' '.join(word for word in x.split(' ') \\\n",
    "                if not (word.startswith('@') or word.startswith('http')))))\n",
    "                \n",
    "                engtext['sentiment_score'] = engtext.apply(lambda row: sentiment_task(row['full_text']), axis = 1)\n",
    "                \n",
    "                # write to CSV\n",
    "                Path(\"raw_roBERTa/\" + data_dir).mkdir(parents=True, exist_ok=True)\n",
    "                jsonpath = 'raw_roBERTa' + '/' + data_dir + '/' + str(path).split('/')[2].split('.')[0] + '.jsonl'\n",
    "                engtext.to_json(jsonpath, orient='records', lines=True)"
   ]
  },
  {
   "cell_type": "code",
   "execution_count": 101,
   "id": "606498b7-af2e-4fb1-83a9-494be71af5a0",
   "metadata": {},
   "outputs": [],
   "source": [
    "# Finding faulty CSVs\n",
    "faulty_paths = []\n",
    "for data_dir in data_dirs:\n",
    "    for path in Path('raw_roBERTa/' + data_dir).iterdir():\n",
    "        if path.name.endswith('Store') or path.name.endswith('jsonl'):\n",
    "            continue\n",
    "        df = pd.read_csv(path)\n",
    "        lis = df['created_at'].tolist()\n",
    "        try:\n",
    "            res = True in (ele[0] != '2' for ele in lis)\n",
    "            if res == True:\n",
    "                faulty_paths.append(path)\n",
    "        except:\n",
    "            faulty_paths.append(path)\n",
    "\n",
    "for data_dir in data_dirs:\n",
    "    for path in Path('spacy_textblob/' + data_dir).iterdir():\n",
    "        if path.name.endswith('Store') or path.name.endswith('jsonl'):\n",
    "            continue\n",
    "        df = pd.read_csv(path)\n",
    "        lis = df['created_at'].tolist()\n",
    "        try:\n",
    "            res = True in (ele[0] != '2' for ele in lis)\n",
    "            if res == True:\n",
    "                faulty_paths.append(path)\n",
    "        except:\n",
    "            faulty_paths.append(path)\n",
    "\n",
    "for data_dir in data_dirs:\n",
    "    for path in Path('raw_vader/' + data_dir).iterdir():\n",
    "        if path.name.endswith('Store') or path.name.endswith('jsonl'):\n",
    "            continue\n",
    "        df = pd.read_csv(path)\n",
    "        lis = df['created_at'].tolist()\n",
    "        try:\n",
    "            res = True in (ele[0] != '2' for ele in lis)\n",
    "            if res == True:\n",
    "                faulty_paths.append(path)\n",
    "        except:\n",
    "            faulty_paths.append(path)"
   ]
  },
  {
   "cell_type": "code",
   "execution_count": 102,
   "id": "d01f3203-afec-45ee-a50d-f206f04da144",
   "metadata": {},
   "outputs": [
    {
     "name": "stdout",
     "output_type": "stream",
     "text": [
      "[PosixPath('raw_vader/2020-12/coronavirus-tweet-id-2020-12-31-11.csv'), PosixPath('raw_vader/2021-01/coronavirus-tweet-id-2021-01-23-11.csv')]\n"
     ]
    }
   ],
   "source": [
    "print(faulty_paths)"
   ]
  },
  {
   "cell_type": "code",
   "execution_count": 103,
   "id": "313e222f-900d-413a-a7b4-20b589cafba1",
   "metadata": {},
   "outputs": [],
   "source": [
    "import os\n",
    "for path in faulty_paths:\n",
    "    os.remove(path)"
   ]
  }
 ],
 "metadata": {
  "kernelspec": {
   "display_name": "Python 3 (ipykernel)",
   "language": "python",
   "name": "python3"
  },
  "language_info": {
   "codemirror_mode": {
    "name": "ipython",
    "version": 3
   },
   "file_extension": ".py",
   "mimetype": "text/x-python",
   "name": "python",
   "nbconvert_exporter": "python",
   "pygments_lexer": "ipython3",
   "version": "3.10.8"
  }
 },
 "nbformat": 4,
 "nbformat_minor": 5
}
